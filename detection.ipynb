{
 "cells": [
  {
   "cell_type": "code",
   "execution_count": 1,
   "id": "785b1044",
   "metadata": {},
   "outputs": [],
   "source": [
    "# import pandas for te CSV read and processing\n",
    "import pandas as pd"
   ]
  },
  {
   "cell_type": "code",
   "execution_count": 3,
   "id": "026c537d",
   "metadata": {},
   "outputs": [
    {
     "name": "stdout",
     "output_type": "stream",
     "text": [
      "Defaulting to user installation because normal site-packages is not writeable\n",
      "Collecting tabulate\n",
      "  Downloading tabulate-0.9.0-py3-none-any.whl (35 kB)\n",
      "Installing collected packages: tabulate\n",
      "Successfully installed tabulate-0.9.0\n"
     ]
    }
   ],
   "source": [
    "# tabulate used to print output in a well structured format\n",
    "!pip install tabulate\n",
    "from tabulate import tabulate"
   ]
  },
  {
   "cell_type": "code",
   "execution_count": 4,
   "id": "8e2a4f95",
   "metadata": {},
   "outputs": [],
   "source": [
    "# import the LogisticRegression class from the sklearn library\n",
    "from sklearn.ensemble import RandomForestClassifier"
   ]
  },
  {
   "cell_type": "code",
   "execution_count": 5,
   "id": "dba5522f",
   "metadata": {},
   "outputs": [],
   "source": [
    "# specify the report requirements\n",
    "from sklearn.metrics import classification_report, confusion_matrix, accuracy_score"
   ]
  },
  {
   "cell_type": "code",
   "execution_count": 6,
   "id": "5bc44d8c",
   "metadata": {},
   "outputs": [],
   "source": [
    "#create the test and training datasets\n",
    "from sklearn.model_selection import train_test_split"
   ]
  },
  {
   "cell_type": "code",
   "execution_count": 7,
   "id": "e6b2cd5f",
   "metadata": {},
   "outputs": [],
   "source": [
    "# import matplotlib for plotting graphs\n",
    "import matplotlib.pyplot as plt"
   ]
  },
  {
   "cell_type": "code",
   "execution_count": 8,
   "id": "0a715e6f",
   "metadata": {},
   "outputs": [],
   "source": [
    "import warnings\n",
    "warnings.filterwarnings('ignore')\n",
    "# time measurement\n",
    "import time"
   ]
  },
  {
   "cell_type": "code",
   "execution_count": 9,
   "id": "3916d7fd",
   "metadata": {},
   "outputs": [],
   "source": [
    "# for SVM classifier\n",
    "from sklearn import tree\n",
    "\n",
    "from sklearn.svm import SVC\n",
    "\n",
    "from sklearn.neural_network import MLPClassifier\n",
    "\n",
    "# result generation\n",
    "from sklearn.metrics import classification_report, confusion_matrix, accuracy_score\n",
    "\n",
    "\n",
    "def result_generation(classifier, classifier_name, x_train, x_test, y_train, y_test):\n",
    "    # result\n",
    "    # 1: model building time, 2: testing time 3: accuracy rate\n",
    "    result=[]\n",
    "\n",
    "    start_time=0\n",
    "    end_time=0\n",
    "\n",
    "    print(\"Result for \"+ classifier_name + \" classifier with \"+ str(len(x_train.columns))+\" attributes\")\n",
    "\n",
    "    # training\n",
    "    start_time=time.time()\n",
    "    classifier.fit(x_train, y_train)\n",
    "    end_time=time.time()\n",
    "\n",
    "    result.append(end_time-start_time)\n",
    "\n",
    "    # testing\n",
    "    start_time=time.time()\n",
    "    y_pred = classifier.predict(x_test)\n",
    "    end_time=time.time()\n",
    "\n",
    "    result.append(end_time-start_time)\n",
    "\n",
    "    # show result\n",
    "    print(accuracy_score(y_test, y_pred))\n",
    "    print(confusion_matrix(y_test,y_pred))\n",
    "    print(classification_report(y_test,y_pred))\n",
    "\n",
    "    result.append(accuracy_score(y_test, y_pred))\n",
    "    return result"
   ]
  },
  {
   "cell_type": "code",
   "execution_count": 10,
   "id": "a3b40f51",
   "metadata": {},
   "outputs": [],
   "source": [
    "# create data frame from the normalised training dataset. If you have haven't already created this run code in explore_dataset.ipynb first\n",
    "train_df=pd.read_csv(\"KDDTrain_Norm.csv\")"
   ]
  },
  {
   "cell_type": "code",
   "execution_count": 11,
   "id": "1c81d210",
   "metadata": {},
   "outputs": [],
   "source": [
    "# create data frame from the testing data (see above comment)\n",
    "test_df=pd.read_csv(\"KDDTest_Norm.csv\")"
   ]
  },
  {
   "cell_type": "code",
   "execution_count": 12,
   "id": "a24ea978",
   "metadata": {},
   "outputs": [
    {
     "name": "stdout",
     "output_type": "stream",
     "text": [
      "Training Data\n",
      "+----+------------+-------------+-------------+------------+------------------+-------------+------------+---------------------+-------------+-------------------+--------------+----------------+------------+----------------------+--------------+--------------------+---------------------+-----------------+------------------+-----------+-------------+---------------+-------------------+---------------+-------------------+-----------------+-----------------+----------------------+------------------+----------------------+--------------------------+--------------------------+-------------------------------+-------------------------------+------------------------+----------------------------+------------------------+----------------------------+-----------------+-----------+--------+---------+\n",
      "|    |   duration |   src_bytes |   dst_bytes |       land |   wrong_fragment |      urgent |        hot |   num_failed_logins |   logged_in |   num_compromised |   root_shell |   su_attempted |   num_root |   num_file_creations |   num_shells |   num_access_files |   num_outbound_cmds |   is_host_login |   is_guest_login |     count |   srv_count |   serror_rate |   srv_serror_rate |   rerror_rate |   srv_rerror_rate |   same_srv_rate |   diff_srv_rate |   srv_diff_host_rate |   dst_host_count |   dst_host_srv_count |   dst_host_same_srv_rate |   dst_host_diff_srv_rate |   dst_host_same_src_port_rate |   dst_host_srv_diff_host_rate |   dst_host_serror_rate |   dst_host_srv_serror_rate |   dst_host_rerror_rate |   dst_host_srv_rerror_rate |   protocol_type |   service |   flag | class   |\n",
      "|----+------------+-------------+-------------+------------+------------------+-------------+------------+---------------------+-------------+-------------------+--------------+----------------+------------+----------------------+--------------+--------------------+---------------------+-----------------+------------------+-----------+-------------+---------------+-------------------+---------------+-------------------+-----------------+-----------------+----------------------+------------------+----------------------+--------------------------+--------------------------+-------------------------------+-------------------------------+------------------------+----------------------------+------------------------+----------------------------+-----------------+-----------+--------+---------|\n",
      "|  0 |  -0.110249 | -0.0076786  | -0.00491864 | -0.0140888 |       -0.0894864 | -0.00773599 | -0.0950757 |          -0.0270228 |   -0.809262 |        -0.0116636 |   -0.0366519 |     -0.0244365 | -0.0123852 |             -0.02618 |   -0.0186099 |         -0.0412212 |                   0 |     -0.00281749 |       -0.0975309 | -0.717045 |   -0.354343 |     -0.637209 |         -0.631929 |     -0.374362 |         -0.374432 |        0.771283 |      -0.349683  |           -0.37456   |        -0.324063 |            -0.81889  |                -0.782367 |                -0.280282 |                     0.0699723 |                     -0.289103 |              -0.639532 |                  -0.624871 |              -0.224532 |                  -0.376387 |               1 |        20 |      9 | normal  |\n",
      "|  1 |  -0.110249 | -0.00773737 | -0.00491864 | -0.0140888 |       -0.0894864 | -0.00773599 | -0.0950757 |          -0.0270228 |   -0.809262 |        -0.0116636 |   -0.0366519 |     -0.0244365 | -0.0123852 |             -0.02618 |   -0.0186099 |         -0.0412212 |                   0 |     -0.00281749 |       -0.0975309 | -0.620982 |   -0.36811  |     -0.637209 |         -0.631929 |     -0.374362 |         -0.374432 |       -1.32143  |       0.482201  |           -0.37456   |         0.734343 |            -1.03569  |                -1.16103  |                 2.73685  |                     2.36774   |                     -0.289103 |              -0.639532 |                  -0.624871 |              -0.387635 |                  -0.376387 |               2 |        44 |      9 | normal  |\n",
      "|  2 |  -0.110249 | -0.00776224 | -0.00491864 | -0.0140888 |       -0.0894864 | -0.00773599 | -0.0950757 |          -0.0270228 |   -0.809262 |        -0.0116636 |   -0.0366519 |     -0.0244365 | -0.0123852 |             -0.02618 |   -0.0186099 |         -0.0412212 |                   0 |     -0.00281749 |       -0.0975309 |  0.339648 |   -0.299273 |      1.60266  |          1.6051   |     -0.374362 |         -0.374432 |       -1.38967  |       0.0385293 |           -0.37456   |         0.734343 |            -0.809857 |                -0.938287 |                -0.174417 |                    -0.480197  |                     -0.289103 |               1.60876  |                   1.61896  |              -0.387635 |                  -0.376387 |               1 |        49 |      5 | anomaly |\n",
      "|  3 |  -0.110249 | -0.00772272 | -0.00289117 | -0.0140888 |       -0.0894864 | -0.00773599 | -0.0950757 |          -0.0270228 |    1.23569  |        -0.0116636 |   -0.0366519 |     -0.0244365 | -0.0123852 |             -0.02618 |   -0.0186099 |         -0.0412212 |                   0 |     -0.00281749 |       -0.0975309 | -0.690846 |   -0.313041 |     -0.189235 |         -0.184522 |     -0.374362 |         -0.374432 |        0.771283 |      -0.349683  |           -0.37456   |        -1.53367  |             1.25875  |                 1.0664   |                -0.439078 |                    -0.383108  |                      0.066252 |              -0.572083 |                  -0.602433 |              -0.387635 |                  -0.345084 |               1 |        24 |      9 | normal  |\n",
      "|  4 |  -0.110249 | -0.00772834 | -0.0048142  | -0.0140888 |       -0.0894864 | -0.00773599 | -0.0950757 |          -0.0270228 |    1.23569  |        -0.0116636 |   -0.0366519 |     -0.0244365 | -0.0123852 |             -0.02618 |   -0.0186099 |         -0.0412212 |                   0 |     -0.00281749 |       -0.0975309 | -0.472521 |    0.058678 |     -0.637209 |         -0.631929 |     -0.374362 |         -0.374432 |        0.771283 |      -0.349683  |           -0.0281787 |         0.734343 |             1.25875  |                 1.0664   |                -0.439078 |                    -0.480197  |                     -0.289103 |              -0.639532 |                  -0.624871 |              -0.387635 |                  -0.376387 |               1 |        24 |      9 | normal  |\n",
      "+----+------------+-------------+-------------+------------+------------------+-------------+------------+---------------------+-------------+-------------------+--------------+----------------+------------+----------------------+--------------+--------------------+---------------------+-----------------+------------------+-----------+-------------+---------------+-------------------+---------------+-------------------+-----------------+-----------------+----------------------+------------------+----------------------+--------------------------+--------------------------+-------------------------------+-------------------------------+------------------------+----------------------------+------------------------+----------------------------+-----------------+-----------+--------+---------+\n",
      "Training Data\n",
      "+----+------------+-------------+-------------+------------+------------------+------------+-----------+---------------------+-------------+-------------------+--------------+----------------+------------+----------------------+--------------+--------------------+---------------------+-----------------+------------------+-----------+-------------+---------------+-------------------+---------------+-------------------+-----------------+-----------------+----------------------+------------------+----------------------+--------------------------+--------------------------+-------------------------------+-------------------------------+------------------------+----------------------------+------------------------+----------------------------+-----------------+-----------+--------+---------+\n",
      "|    |   duration |   src_bytes |   dst_bytes |       land |   wrong_fragment |     urgent |       hot |   num_failed_logins |   logged_in |   num_compromised |   root_shell |   su_attempted |   num_root |   num_file_creations |   num_shells |   num_access_files |   num_outbound_cmds |   is_host_login |   is_guest_login |     count |   srv_count |   serror_rate |   srv_serror_rate |   rerror_rate |   srv_rerror_rate |   same_srv_rate |   diff_srv_rate |   srv_diff_host_rate |   dst_host_count |   dst_host_srv_count |   dst_host_same_srv_rate |   dst_host_diff_srv_rate |   dst_host_same_src_port_rate |   dst_host_srv_diff_host_rate |   dst_host_serror_rate |   dst_host_srv_serror_rate |   dst_host_rerror_rate |   dst_host_srv_rerror_rate |   protocol_type |   service |   flag | class   |\n",
      "|----+------------+-------------+-------------+------------+------------------+------------+-----------+---------------------+-------------+-------------------+--------------+----------------+------------+----------------------+--------------+--------------------+---------------------+-----------------+------------------+-----------+-------------+---------------+-------------------+---------------+-------------------+-----------------+-----------------+----------------------+------------------+----------------------+--------------------------+--------------------------+-------------------------------+-------------------------------+------------------------+----------------------------+------------------------+----------------------------+-----------------+-----------+--------+---------|\n",
      "|  0 |  -0.155534 |  -0.0219881 |   -0.096896 | -0.0176239 |       -0.0591039 | -0.0194592 | -0.113521 |           -0.143999 |   -0.890373 |        -0.0164936 |   -0.0494534 |     -0.0126378 | -0.0142592 |           -0.0129109 |   -0.0240205 |          -0.052318 |                   0 |      -0.0220946 |        -0.171071 |  1.16676  |   -0.237191 |     -0.348468 |        -0.34739   |      1.83014  |          1.8376   |       -1.69786  |       -0.131492 |            -0.386963 |         0.650093 |            -1.1697   |              -1.30537    |                -0.13837  |                     -0.431856 |                    -0.22998   |              -0.358118 |                   -0.35275 |               1.97979  |                   1.92912  |               1 |        45 |      1 | anomaly |\n",
      "|  1 |  -0.155534 |  -0.0219881 |   -0.096896 | -0.0176239 |       -0.0591039 | -0.0194592 | -0.113521 |           -0.143999 |   -0.890373 |        -0.0164936 |   -0.0494534 |     -0.0126378 | -0.0142592 |           -0.0129109 |   -0.0240205 |          -0.052318 |                   0 |      -0.0220946 |        -0.171071 |  0.443234 |   -0.338246 |     -0.348468 |        -0.34739   |      1.83014  |          1.8376   |       -1.77059  |       -0.131492 |            -0.386963 |         0.650093 |            -1.25021  |              -1.39718    |                -0.13837  |                     -0.431856 |                    -0.22998   |              -0.358118 |                   -0.35275 |               1.97979  |                   1.92912  |               1 |        45 |      1 | anomaly |\n",
      "|  2 |  -0.154113 |   0.0054731 |   -0.096896 | -0.0176239 |       -0.0591039 | -0.0194592 | -0.113521 |           -0.143999 |   -0.890373 |        -0.0164936 |   -0.0494534 |     -0.0126378 | -0.0142592 |           -0.0129109 |   -0.0240205 |          -0.052318 |                   0 |      -0.0220946 |        -0.171071 | -0.607053 |   -0.338246 |     -0.348468 |        -0.34739   |     -0.573079 |         -0.565054 |        0.629488 |       -0.363035 |            -0.386963 |        -0.636681 |            -0.4898   |               0.00293425 |                -0.228985 |                      1.55991  |                     0.0042336 |              -0.358118 |                   -0.35275 |              -0.602719 |                  -0.565483 |               1 |        19 |      9 | normal  |\n",
      "|  3 |  -0.155534 |  -0.0219458 |   -0.096896 | -0.0176239 |       -0.0591039 | -0.0194592 | -0.113521 |           -0.143999 |   -0.890373 |        -0.0164936 |   -0.0494534 |     -0.0126378 | -0.0142592 |           -0.0129109 |   -0.0240205 |          -0.052318 |                   0 |      -0.0220946 |        -0.171071 | -0.607053 |    0.380366 |     -0.348468 |        -0.34739   |     -0.573079 |         -0.565054 |        0.629488 |       -0.363035 |             3.55719  |        -2.0298   |            -0.749234 |               0.89809    |                -0.410217 |                      2.83333  |                     3.04902   |              -0.358118 |                   -0.35275 |              -0.602719 |                  -0.565483 |               0 |        13 |      9 | anomaly |\n",
      "|  4 |  -0.154823 |  -0.0219881 |   -0.096189 | -0.0176239 |       -0.0591039 | -0.0194592 | -0.113521 |           -0.143999 |   -0.890373 |        -0.0164936 |   -0.0494534 |     -0.0126378 | -0.0142592 |           -0.0129109 |   -0.0240205 |          -0.052318 |                   0 |      -0.0220946 |        -0.171071 | -0.607053 |   -0.259648 |     -0.348468 |         0.0548559 |      1.83014  |          0.636275 |        0.629488 |       -0.363035 |             2.57115  |        -1.7533   |            -0.4898   |              -0.685647   |                 0.360018 |                     -0.333901 |                     0.0042336 |              -0.358118 |                   -0.35275 |               1.54076  |                   1.20568  |               1 |        55 |      2 | anomaly |\n",
      "+----+------------+-------------+-------------+------------+------------------+------------+-----------+---------------------+-------------+-------------------+--------------+----------------+------------+----------------------+--------------+--------------------+---------------------+-----------------+------------------+-----------+-------------+---------------+-------------------+---------------+-------------------+-----------------+-----------------+----------------------+------------------+----------------------+--------------------------+--------------------------+-------------------------------+-------------------------------+------------------------+----------------------------+------------------------+----------------------------+-----------------+-----------+--------+---------+\n"
     ]
    }
   ],
   "source": [
    "# show the training dataset\n",
    "print('Training Data')\n",
    "print(tabulate(train_df.head(5), train_df.columns, tablefmt = 'psql'))\n",
    "print('Training Data')\n",
    "\n",
    "print(tabulate(test_df.head(5), train_df.columns, tablefmt = 'psql'))"
   ]
  },
  {
   "cell_type": "code",
   "execution_count": 13,
   "id": "247e5bc3",
   "metadata": {},
   "outputs": [],
   "source": [
    "# training data\n",
    "x_train=train_df[train_df.columns[:-1]]\n",
    "y_train=train_df['class']"
   ]
  },
  {
   "cell_type": "code",
   "execution_count": 14,
   "id": "97a38c22",
   "metadata": {},
   "outputs": [],
   "source": [
    "# prepare the test data frame\n",
    "x_test=test_df[test_df.columns[:-1]]\n",
    "y_test=test_df['class']"
   ]
  },
  {
   "cell_type": "code",
   "execution_count": 15,
   "id": "61e0388a",
   "metadata": {},
   "outputs": [],
   "source": [
    "# specify the top ranked features (found in the explore_dataset.ipynb notebook)\n",
    "top_col=[\"src_bytes\", \"dst_bytes\", \"flag\", \"same_srv_rate\", \"dst_host_same_srv_rate\", \"diff_srv_rate\", \"dst_host_srv_count\", \"count\", \"protocol_type\", \"logged_in\", \"dst_host_same_src_port_rate\", \"service\", \"dst_host_diff_srv_rate\"]"
   ]
  },
  {
   "cell_type": "code",
   "execution_count": 16,
   "id": "d65794a5",
   "metadata": {},
   "outputs": [],
   "source": [
    "# create data frame to hold output\n",
    "df_btime=pd.DataFrame({\"Classifier\":[], \"All_Attributes\":[], \"Top_13_Attributes\":[]})\n",
    "df_ttime=pd.DataFrame({\"Classifier\":[], \"All_Attributes\":[], \"Top_13_Attributes\":[]})\n",
    "df_acc=pd.DataFrame({\"Classifier\":[], \"All_Attributes\":[], \"Top_13_Attributes\":[]})"
   ]
  },
  {
   "cell_type": "code",
   "execution_count": 17,
   "id": "e1257268",
   "metadata": {},
   "outputs": [
    {
     "name": "stdout",
     "output_type": "stream",
     "text": [
      "Result for RandomForest classifier with 41 attributes\n",
      "0.7915631653655074\n",
      "[[8605 4228]\n",
      " [ 471 9240]]\n",
      "              precision    recall  f1-score   support\n",
      "\n",
      "     anomaly       0.95      0.67      0.79     12833\n",
      "      normal       0.69      0.95      0.80      9711\n",
      "\n",
      "    accuracy                           0.79     22544\n",
      "   macro avg       0.82      0.81      0.79     22544\n",
      "weighted avg       0.84      0.79      0.79     22544\n",
      "\n",
      "Result for RandomForest classifier with 13 attributes\n",
      "0.7830908445706175\n",
      "[[9626 3207]\n",
      " [1683 8028]]\n",
      "              precision    recall  f1-score   support\n",
      "\n",
      "     anomaly       0.85      0.75      0.80     12833\n",
      "      normal       0.71      0.83      0.77      9711\n",
      "\n",
      "    accuracy                           0.78     22544\n",
      "   macro avg       0.78      0.79      0.78     22544\n",
      "weighted avg       0.79      0.78      0.78     22544\n",
      "\n"
     ]
    }
   ],
   "source": [
    "# create random forest classifier\n",
    "classifier = RandomForestClassifier(n_estimators=1000, random_state=0)\n",
    "r1=result_generation(classifier, \"RandomForest\", x_train, x_test, y_train, y_test)\n",
    "r2=result_generation(classifier, \"RandomForest\", x_train[top_col], x_test[top_col], y_train, y_test)\n",
    "\n",
    "df_btime.loc[len(df_btime.index)] = ['RandomForest', r1[0], r2[0]]\n",
    "df_ttime.loc[len(df_ttime.index)] = ['RandomForest', r1[1], r2[1]]\n",
    "df_acc.loc[len(df_acc.index)] = ['RandomForest', r1[2], r2[2]]"
   ]
  },
  {
   "cell_type": "code",
   "execution_count": 18,
   "id": "1f9372f8",
   "metadata": {},
   "outputs": [
    {
     "name": "stdout",
     "output_type": "stream",
     "text": [
      "Result for DecisionTree classifier with 41 attributes\n",
      "0.7950674237047551\n",
      "[[9762 3071]\n",
      " [1549 8162]]\n",
      "              precision    recall  f1-score   support\n",
      "\n",
      "     anomaly       0.86      0.76      0.81     12833\n",
      "      normal       0.73      0.84      0.78      9711\n",
      "\n",
      "    accuracy                           0.80     22544\n",
      "   macro avg       0.79      0.80      0.79     22544\n",
      "weighted avg       0.80      0.80      0.80     22544\n",
      "\n",
      "Result for DecisionTree classifier with 13 attributes\n",
      "0.7758161816891412\n",
      "[[10030  2803]\n",
      " [ 2251  7460]]\n",
      "              precision    recall  f1-score   support\n",
      "\n",
      "     anomaly       0.82      0.78      0.80     12833\n",
      "      normal       0.73      0.77      0.75      9711\n",
      "\n",
      "    accuracy                           0.78     22544\n",
      "   macro avg       0.77      0.77      0.77     22544\n",
      "weighted avg       0.78      0.78      0.78     22544\n",
      "\n"
     ]
    }
   ],
   "source": [
    "# create decision tree classifier\n",
    "classifier = tree.DecisionTreeClassifier()\n",
    "r1=result_generation(classifier, \"DecisionTree\", x_train, x_test, y_train, y_test)\n",
    "r2=result_generation(classifier, \"DecisionTree\", x_train[top_col], x_test[top_col], y_train, y_test)\n",
    "\n",
    "df_btime.loc[len(df_btime.index)] = ['DecisionTree', r1[0], r2[0]]\n",
    "df_ttime.loc[len(df_ttime.index)] = ['DecisionTree', r1[1], r2[1]]\n",
    "df_acc.loc[len(df_acc.index)] = ['DecisionTree', r1[2], r2[2]]"
   ]
  },
  {
   "cell_type": "code",
   "execution_count": null,
   "id": "f7ba2550",
   "metadata": {},
   "outputs": [],
   "source": [
    "# create SVM classifier\n",
    "classifier = SVC(kernel = 'linear', C = 1)\n",
    "r1=result_generation(classifier, \"SVM\", x_train, x_test, y_train, y_test)\n",
    "r2=result_generation(classifier, \"SVM\", x_train[top_col], x_test[top_col], y_train, y_test)\n",
    "\n",
    "df_btime.loc[len(df_btime.index)] = ['SVM', r1[0], r2[0]]\n",
    "df_ttime.loc[len(df_ttime.index)] = ['SVM', r1[1], r2[1]]\n",
    "df_acc.loc[len(df_acc.index)] = ['SVM', r1[2], r2[2]]"
   ]
  },
  {
   "cell_type": "code",
   "execution_count": null,
   "id": "45b467db",
   "metadata": {},
   "outputs": [],
   "source": [
    "# create MLP classifier\n",
    "ncount=len(x_train.columns)\n",
    "classifier = MLPClassifier(hidden_layer_sizes=(ncount,ncount,ncount,ncount),activation=\"relu\",random_state=1)\n",
    "r1=result_generation(classifier, \"MLP\", x_train, x_test, y_train, y_test)\n",
    "ncount=len(top_col)\n",
    "classifier = MLPClassifier(hidden_layer_sizes=(ncount,ncount,ncount,ncount),activation=\"relu\",random_state=1)\n",
    "r2=result_generation(classifier, \"MLP\", x_train[top_col], x_test[top_col], y_train, y_test)\n",
    "\n",
    "df_btime.loc[len(df_btime.index)] = ['MLP', r1[0], r2[0]]\n",
    "df_ttime.loc[len(df_ttime.index)] = ['MLP', r1[1], r2[1]]\n",
    "df_acc.loc[len(df_acc.index)] = ['MLP', r1[2], r2[2]]"
   ]
  },
  {
   "cell_type": "code",
   "execution_count": null,
   "id": "6176533f",
   "metadata": {},
   "outputs": [],
   "source": [
    "# plot all graphs from output of classifiers \n",
    "print(df_btime)\n",
    "print(df_ttime)\n",
    "print(df_acc)\n",
    "\n",
    "df_btime=df_btime.set_index('Classifier')\n",
    "df_ttime=df_ttime.set_index('Classifier')\n",
    "df_acc=df_acc.set_index('Classifier')\n",
    "\n",
    "\n",
    "\n",
    "plots1= df_btime.plot.bar(rot=0, title=\"Model Building Time\")\n",
    "plots2= df_ttime.plot.bar(rot=0, title=\"Model Evaluation Time\")\n",
    "plots3= df_acc.plot.bar(rot=0, title=\"Model Accuracy\")\n",
    "\n",
    "for bar in plots1.patches:\n",
    "    plots1.annotate(format(bar.get_height(), '.2f'),\n",
    "                   (bar.get_x() + bar.get_width() / 2,\n",
    "                    bar.get_height()), ha='center', va='center',\n",
    "                   size=15, xytext=(0, 8),\n",
    "                   textcoords='offset points')\n",
    "\n",
    "for bar in plots2.patches:\n",
    "    plots2.annotate(format(bar.get_height(), '.2f'),\n",
    "                   (bar.get_x() + bar.get_width() / 2,\n",
    "                    bar.get_height()), ha='center', va='center',\n",
    "                   size=15, xytext=(0, 8),\n",
    "                   textcoords='offset points')\n",
    "\n",
    "for bar in plots3.patches:\n",
    "    plots3.annotate(format(bar.get_height(), '.6f'),\n",
    "                   (bar.get_x() + bar.get_width() / 2,\n",
    "                    bar.get_height()), ha='center', va='center',\n",
    "                   size=15, xytext=(0, 8),\n",
    "                   textcoords='offset points')\n",
    "\n",
    "plt.show()"
   ]
  },
  {
   "cell_type": "code",
   "execution_count": null,
   "id": "0fc3c201",
   "metadata": {},
   "outputs": [],
   "source": []
  },
  {
   "cell_type": "code",
   "execution_count": null,
   "id": "35e86d7c",
   "metadata": {},
   "outputs": [],
   "source": []
  },
  {
   "cell_type": "code",
   "execution_count": null,
   "id": "0044802f",
   "metadata": {},
   "outputs": [],
   "source": []
  },
  {
   "cell_type": "code",
   "execution_count": null,
   "id": "4af1037d",
   "metadata": {},
   "outputs": [],
   "source": []
  },
  {
   "cell_type": "code",
   "execution_count": null,
   "id": "9dca8c4c",
   "metadata": {},
   "outputs": [],
   "source": []
  },
  {
   "cell_type": "code",
   "execution_count": null,
   "id": "f4e3fb7f",
   "metadata": {},
   "outputs": [],
   "source": []
  }
 ],
 "metadata": {
  "kernelspec": {
   "display_name": "Python 3 (ipykernel)",
   "language": "python",
   "name": "python3"
  },
  "language_info": {
   "codemirror_mode": {
    "name": "ipython",
    "version": 3
   },
   "file_extension": ".py",
   "mimetype": "text/x-python",
   "name": "python",
   "nbconvert_exporter": "python",
   "pygments_lexer": "ipython3",
   "version": "3.9.13"
  }
 },
 "nbformat": 4,
 "nbformat_minor": 5
}
